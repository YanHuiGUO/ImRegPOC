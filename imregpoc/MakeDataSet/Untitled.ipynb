{
 "cells": [
  {
   "cell_type": "code",
   "execution_count": 12,
   "metadata": {
    "collapsed": true
   },
   "outputs": [],
   "source": [
    "import numpy as np\n",
    "import sys\n",
    "sys.path.append('../')\n",
    "# Each Function are at different Part\n",
    "import imregpoc\n",
    "import cv2\n",
    "\n"
   ]
  },
  {
   "cell_type": "code",
   "execution_count": 14,
   "metadata": {},
   "outputs": [],
   "source": [
    "class VideoStiching():\n",
    "\n",
    "    def __init__(self,videoname):\n",
    "        vidcap = cv2.VideoCapture(videoname)\n",
    "\n",
    "        success,image = vidcap.read()\n",
    "        if not(success):\n",
    "            print('Cannot open the video!')\n",
    "            exit(-1)\n",
    "        self.frames = []\n",
    "        self.cframes = []\n",
    "        self.frames.append(self.gray(image))\n",
    "        self.cframes.append(image)\n",
    "        self.framenum = 1\n",
    "        while(vidcap.isOpened()):\n",
    "            success,image = vidcap.read()\n",
    "            if success:\n",
    "                self.framenum += 1\n",
    "                self.frames.append(self.gray(image))\n",
    "                self.cframes.append(image)\n",
    "            else:\n",
    "                break\n",
    "\n",
    "    def extract_relationship(self):\n",
    "        self.xMat = np.zeros((self.framenum,self.framenum),dtype=float)\n",
    "        self.yMat = np.zeros((self.framenum,self.framenum),dtype=float)\n",
    "        self.thMat = np.zeros((self.framenum,self.framenum),dtype=float)\n",
    "        self.sMat = np.zeros((self.framenum,self.framenum),dtype=float)\n",
    "        self.PeakMat = np.zeros((self.framenum,self.framenum),dtype=float)\n",
    "\n",
    "        for i in range (0,self.framenum-1):\n",
    "            match = imregpoc.imregpoc(self.frames[i],self.frames[i+1])\n",
    "            x,y,th,s = match.getParam()\n",
    "            peak = match.getPeak()\n",
    "            self.xMat[i,i+1] = x\n",
    "            self.yMat[i,i+1] = y\n",
    "            self.thMat[i,i+1] = th\n",
    "            self.sMat[i,i+1] = s\n",
    "            self.PeakMat[i,i+1] = peak\n",
    "\n",
    "            for j in range (i+1,self.framenum):\n",
    "                match.match_new(self.frames[j])\n",
    "                x,y,th,s = match.getParam()\n",
    "                peak = match.getPeak()\n",
    "                self.xMat[i,j] = x\n",
    "                self.yMat[i,j] = y\n",
    "                self.thMat[i,j] = th\n",
    "                self.sMat[i,j] = s\n",
    "                self.PeakMat[i,j] = peak\n",
    "                print('['+str(i)+','+str(j)+']', end='\\r')\n",
    "\n",
    "    def gray(self,frame):\n",
    "            gray = cv2.cvtColor(frame, cv2.COLOR_BGR2GRAY)\n",
    "            return gray"
   ]
  },
  {
   "cell_type": "code",
   "execution_count": 15,
   "metadata": {
    "collapsed": true
   },
   "outputs": [],
   "source": [
    "videoobj = VideoStiching('../../../videoreader/1228/1228.avi')"
   ]
  },
  {
   "cell_type": "code",
   "execution_count": null,
   "metadata": {},
   "outputs": [
    {
     "name": "stdout",
     "output_type": "stream",
     "text": [
      "Skip subpixel estimation!\n",
      "[2,117]\r"
     ]
    }
   ],
   "source": [
    "videoobj.extract_relationship()"
   ]
  }
 ],
 "metadata": {
  "kernelspec": {
   "display_name": "Python 3",
   "language": "python",
   "name": "python3"
  },
  "language_info": {
   "codemirror_mode": {
    "name": "ipython",
    "version": 3
   },
   "file_extension": ".py",
   "mimetype": "text/x-python",
   "name": "python",
   "nbconvert_exporter": "python",
   "pygments_lexer": "ipython3",
   "version": "3.5.3"
  }
 },
 "nbformat": 4,
 "nbformat_minor": 2
}
