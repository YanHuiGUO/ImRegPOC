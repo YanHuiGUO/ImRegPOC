{
 "cells": [
  {
   "cell_type": "code",
   "execution_count": 1,
   "metadata": {
    "collapsed": true
   },
   "outputs": [],
   "source": [
    "import numpy as np\n",
    "import sys\n",
    "sys.path.append('../')\n",
    "# Each Function are at different Part\n",
    "import imregpoc\n",
    "import cv2\n",
    "import math"
   ]
  },
  {
   "cell_type": "code",
   "execution_count": null,
   "metadata": {},
   "outputs": [],
   "source": [
    "class VideoStiching:\n",
    "\n",
    "    def __init__(self,videoname):\n",
    "        vidcap = cv2.VideoCapture(videoname)\n",
    "        vnames = videoname.replace('/', '.').split('.')\n",
    "        self.vname = vnames[-2]\n",
    "        \n",
    "        success,image = vidcap.read()\n",
    "        if not(success):\n",
    "            print('Cannot open the video!')\n",
    "            exit(-1)\n",
    "        self.frames = []\n",
    "        self.cframes = []\n",
    "        self.frames.append(self.gray(image))\n",
    "        self.cframes.append(image)\n",
    "        self.framenum = 1\n",
    "        while(vidcap.isOpened()):\n",
    "            success,image = vidcap.read()\n",
    "            if success:\n",
    "                self.framenum += 1\n",
    "                self.frames.append(self.gray(image))\n",
    "                self.cframes.append(image)\n",
    "            else:\n",
    "                break\n",
    "\n",
    "    def extract_relationship(self):\n",
    "        self.xMat = np.zeros((self.framenum,self.framenum),dtype=float)\n",
    "        self.yMat = np.zeros((self.framenum,self.framenum),dtype=float)\n",
    "        self.thMat = np.zeros((self.framenum,self.framenum),dtype=float)\n",
    "        self.sMat = np.zeros((self.framenum,self.framenum),dtype=float)\n",
    "        self.PeakMat = np.zeros((self.framenum,self.framenum),dtype=float)\n",
    "\n",
    "        for i in range (0,self.framenum-1):\n",
    "            match = imregpoc.imregpoc(self.frames[i],self.frames[i+1])\n",
    "            x,y,th,s = match.getParam()\n",
    "            peak = match.getPeak()\n",
    "            self.xMat[i,i+1] = x\n",
    "            self.yMat[i,i+1] = y\n",
    "            self.thMat[i,i+1] = th\n",
    "            self.sMat[i,i+1] = s\n",
    "            self.PeakMat[i,i+1] = peak\n",
    "\n",
    "            for j in range (i+1,self.framenum):\n",
    "                match.match_new(self.frames[j])\n",
    "                x,y,th,s = match.getParam()\n",
    "                peak = match.getPeak()\n",
    "                self.xMat[i,j] = x\n",
    "                self.yMat[i,j] = y\n",
    "                self.thMat[i,j] = th\n",
    "                self.sMat[i,j] = s\n",
    "                self.PeakMat[i,j] = peak\n",
    "                print('['+str(i)+','+str(j)+']', end='\\r')\n",
    "\n",
    "    def gray(self,frame):\n",
    "        gray = cv2.cvtColor(frame, cv2.COLOR_BGR2GRAY)\n",
    "        return gray\n",
    "        \n",
    "    def save_data(self):\n",
    "        #import os\n",
    "        #TARGET_DIR = self.vname\n",
    "        #if not os.path.isdir(TARGET_DIR):\n",
    "        #    os.makedirs(TARGET_DIR)\n",
    "        saveMat = np.concatenate([self.xMat,self.yMat,self.thMat,self.sMat,self.PeakMat], axis=0)\n",
    "        output = self.vname+'.csv'\n",
    "        np.savetxt(output,saveMat)\n",
    "            \n",
    "    def load_data(self,output=None):\n",
    "        if output==None:\n",
    "            saveMat = np.loadtxt(self.vname+'.csv',delimiter=' ')\n",
    "        else:\n",
    "            saveMat = np.loadtxt(output,delimiter=',')\n",
    "        Mats = np.split(saveMat,5,axis=0)\n",
    "        self.xMat = Mats[0]\n",
    "        self.yMat = Mats[1]\n",
    "        self.thMat = Mats[2]\n",
    "        self.sMat = Mats[3]\n",
    "        self.PeakMat = Mats[4]\n",
    "    \n",
    "    def solve_mat(self,vMat,wMat):\n",
    "        #hei,wid = wMat.shape\n",
    "        # step 1: AWA\n",
    "        diagAvec = wMat.sum(axis=0).T + wMat.sum(axis=1)\n",
    "        diagA = np.diag(diagAvec[1:])\n",
    "        tri = wMat[1:,1:]\n",
    "        A = -tri + diagA - tri.T\n",
    "        # step 2: AWy\n",
    "        bmat = wMat * vMat\n",
    "        Bb = bmat.sum(axis=0).T - bmat.sum(axis=1)\n",
    "        B = Bb[1:]\n",
    "        # step 3: AWA^-1 AWy\n",
    "        v = np.dot(np.linalg.inv(A),B)\n",
    "        return v\n",
    "\n",
    "    def check_valid_mat(self,wMat):\n",
    "        diagAvec = wMat.sum(axis=0).T + wMat.sum(axis=1)\n",
    "        if len(diagAvec) - np.count_nonzero(diagAvec) > 0:\n",
    "            print('Bad frames exists!')\n",
    "\n",
    "\n",
    "    def Optimization(self,threshold=None):\n",
    "        # 1: get a weight matrix\n",
    "        if threshold ==None:\n",
    "            threshold = 0.06\n",
    "        wMat = self.PeakMat\n",
    "        wMat[wMat <threshold] = 0\n",
    "\n",
    "        self.check_valid_mat(wMat)\n",
    "\n",
    "        # 2-1 optimize theta\n",
    "        vth = self.solve_mat(self.thMat,wMat)\n",
    "        vth = np.append([0],vth,axis=0)\n",
    "        # 2-2 optimize kappa\n",
    "        logsMat = np.log(self.sMat)\n",
    "        logsMat[logsMat==-np.inf] = 0\n",
    "        vlogs = self.solve_mat(logsMat,wMat)\n",
    "        vs = np.exp(vlogs)\n",
    "        vs = np.append([1],vs,axis=0)\n",
    "\n",
    "        # 2-3 optimize x and y\n",
    "        CtaMap = np.tile(vth.reshape(self.framenum,1),(1,self.framenum))\n",
    "        ScaleMap = np.tile(vs.reshape(self.framenum,1),(1,self.framenum))\n",
    "        # conversion matrix\n",
    "        csMap = np.cos(CtaMap)*ScaleMap\n",
    "        snMap = -np.sin(CtaMap)*ScaleMap\n",
    "        # convert x and y\n",
    "        tr_xMat =  self.xMat * csMap + self.yMat * snMap\n",
    "        tr_yMat = -self.xMat * snMap + self.yMat * csMap\n",
    "        # solve\n",
    "        vx = np.append([0],self.solve_mat(tr_xMat,wMat),axis=0)\n",
    "        vy = np.append([0],self.solve_mat(tr_yMat,wMat),axis=0)\n",
    "        self.results = np.concatenate([vx,vy,vth,vs],axis=0).reshape(4,self.framenum).T\n",
    "        \n",
    "    def load_results(self,fname):\n",
    "        self.results = np.loadtxt(fname,delimiter=',')\n",
    "\n",
    "    def show_stitched(self):\n",
    "        self.match = imregpoc.imregpoc(self.frames[0],self.frames[0])\n",
    "        hei, wid = self.frames[0].shape\n",
    "        center =[hei/2,wid/2]\n",
    "        sxmax = wid-1\n",
    "        sxmin = 0\n",
    "        symax = hei-1\n",
    "        symin = 0\n",
    "        Perspectives = np.zeros((self.framenum,3,3),dtype=float)\n",
    "        for i in range (0,self.framenum-1):\n",
    "            perspect = self.match.poc2warp(center,self.results[i])\n",
    "            xmin,ymin,xmax,ymax = self.match.convertRectangle(perspect)\n",
    "            sxmax = max(xmax,sxmax)\n",
    "            sxmin = min(xmin,sxmin)\n",
    "            symax = max(ymax,symax)\n",
    "            symin = min(ymin,symin)\n",
    "            Perspectives[i] = perspect\n",
    "        swidth,sheight = sxmax-sxmin+1,symax-symin+1\n",
    "        xtrans,ytrans = 0-sxmin,0-symin\n",
    "        Trans = np.float32([1,0,xtrans , 0,1,ytrans, 0,0,1]).reshape(3,3)\n",
    "        self.panorama = np.zeros((sheight,swidth))\n",
    "        self.panorama[ytrans:ytrans+hei,xtrans:xtrans+wid] = self.match.ref\n",
    "        for i in range (1,self.framenum-1):\n",
    "            newTrans = np.dot(Trans,np.linalg.inv(Perspectives[i]))\n",
    "            warpedimage = cv2.warpPerspective(self.frames[i],newTrans,(swidth,sheight),flags=cv2.INTER_LINEAR+cv2.WARP_FILL_OUTLIERS)\n",
    "            mask = cv2.warpPerspective(np.ones((hei,wid)),newTrans,(swidth,sheight),flags=cv2.INTER_LINEAR+cv2.WARP_FILL_OUTLIERS)\n",
    "            mask[mask < 1] = 0 \n",
    "            Imask = np.ones((sheight,swidth),dtype=float)-mask\n",
    "            self.panorama = self.panorama*Imask + warpedimage*mask\n",
    "\n",
    "            cv2.imshow('panorama',self.panorama/255)\n",
    "            cv2.waitKey(5)\n",
    "        cv2.imwrite('panoramaimg.png',self.panorama)\n",
    "        cv2.waitKey(0)\n",
    "        cv2.destroyAllWindows()\n",
    "\n",
    "    def extract_relationship_FP(self):\n",
    "        self.xMat = np.zeros((self.framenum,self.framenum),dtype=float)\n",
    "        self.yMat = np.zeros((self.framenum,self.framenum),dtype=float)\n",
    "        self.thMat = np.zeros((self.framenum,self.framenum),dtype=float)\n",
    "        self.sMat = np.zeros((self.framenum,self.framenum),dtype=float)\n",
    "        self.matchedNum = np.zeros((self.framenum,self.framenum),dtype=float)\n",
    "        self.inliersNum = np.zeros((self.framenum,self.framenum),dtype=float)\n",
    "\n",
    "        for i in range (0,self.framenum-1):\n",
    "            match = imregpoc.TempMatcher(self.frames[i],'SIFT')\n",
    "\n",
    "            for j in range (i+1,self.framenum):\n",
    "                param,counts,inlier = match.match(self.frames[j])\n",
    "                x,y,th,s = param\n",
    "                self.xMat[i,j] = x\n",
    "                self.yMat[i,j] = y\n",
    "                self.thMat[i,j] = th/180*math.pi\n",
    "                self.sMat[i,j] = s\n",
    "                self.matchedNum[i,j] = counts\n",
    "                self.inliersNum[i,j] = inlier\n",
    "                print('['+str(i)+','+str(j)+']', end='\\r')\n",
    "\n",
    "        saveMat = np.concatenate([self.xMat,self.yMat,self.thMat,self.sMat,self.matchedNum,self.inliersNum], axis=0)\n",
    "        output = self.vname+'_FP'+'.csv'\n",
    "        np.savetxt(output,saveMat,delimiter=',')\n",
    "\n",
    "    def load_FP(self):\n",
    "        output = self.vname+'_FP'+'.csv'\n",
    "        readMat = np.loadtxt(output,delimiter=',')\n",
    "        Mats = np.split(readMat,6,axis=0)\n",
    "        self.xMat = Mats[0]\n",
    "        self.yMat = Mats[1]\n",
    "        self.thMat = Mats[2]\n",
    "        self.sMat = Mats[3]\n",
    "        self.matchedNum = Mats[4]\n",
    "        self.inliersNum = Mats[5]\n",
    "\n",
    "    def getPeak_FP(self,threshold = 0):\n",
    "        if threshold == 0:\n",
    "            threshold = 50\n",
    "        self.PeakMat = np.copy(self.inliersNum)\n",
    "        self.PeakMat[self.PeakMat<threshold]=0\n",
    "        self.PeakMat[self.PeakMat>=threshold]=1\n"
   ]
  },
  {
   "cell_type": "code",
   "execution_count": 3,
   "metadata": {
    "collapsed": true
   },
   "outputs": [],
   "source": [
    "videoobj = VideoStiching('../../../videoreader/1228/1228.avi')"
   ]
  },
  {
   "cell_type": "code",
   "execution_count": 6,
   "metadata": {},
   "outputs": [
    {
     "name": "stdout",
     "output_type": "stream",
     "text": [
      "Skip subpixel estimation!\n",
      "Skip subpixel estimation!\n",
      "Skip subpixel estimation!\n",
      "Skip subpixel estimation!\n",
      "Skip subpixel estimation!\n",
      "Skip subpixel estimation!\n",
      "Skip subpixel estimation!\n",
      "Skip subpixel estimation!\n",
      "Skip subpixel estimation!\n",
      "Skip subpixel estimation!\n",
      "Skip subpixel estimation!\n",
      "Skip subpixel estimation!\n",
      "Skip subpixel estimation!\n",
      "Skip subpixel estimation!\n",
      "Skip subpixel estimation!\n",
      "Skip subpixel estimation!\n",
      "Skip subpixel estimation!\n",
      "Skip subpixel estimation!\n",
      "Skip subpixel estimation!\n",
      "Skip subpixel estimation!\n",
      "Skip subpixel estimation!\n",
      "Skip subpixel estimation!\n",
      "Skip subpixel estimation!\n",
      "Skip subpixel estimation!\n",
      "Skip subpixel estimation!\n",
      "Skip subpixel estimation!\n",
      "Skip subpixel estimation!\n",
      "Skip subpixel estimation!\n",
      "Skip subpixel estimation!\n",
      "Skip subpixel estimation!\n",
      "Skip subpixel estimation!\n",
      "Skip subpixel estimation!\n",
      "Skip subpixel estimation!\n",
      "Skip subpixel estimation!\n",
      "Skip subpixel estimation!\n",
      "Skip subpixel estimation!\n",
      "Skip subpixel estimation!\n",
      "Skip subpixel estimation!\n",
      "Skip subpixel estimation!\n",
      "Skip subpixel estimation!\n",
      "Skip subpixel estimation!\n",
      "Skip subpixel estimation!\n",
      "Skip subpixel estimation!\n",
      "Skip subpixel estimation!\n",
      "Skip subpixel estimation!\n",
      "Skip subpixel estimation!\n",
      "Skip subpixel estimation!\n",
      "Skip subpixel estimation!\n",
      "Skip subpixel estimation!\n",
      "Skip subpixel estimation!\n",
      "Skip subpixel estimation!\n",
      "Skip subpixel estimation!\n",
      "Skip subpixel estimation!\n",
      "Skip subpixel estimation!\n",
      "Skip subpixel estimation!\n",
      "Skip subpixel estimation!\n",
      "Skip subpixel estimation!\n",
      "Skip subpixel estimation!\n",
      "Skip subpixel estimation!\n",
      "Skip subpixel estimation!\n",
      "Skip subpixel estimation!\n",
      "Skip subpixel estimation!\n",
      "Skip subpixel estimation!\n",
      "Skip subpixel estimation!\n",
      "Skip subpixel estimation!\n",
      "Skip subpixel estimation!\n",
      "Skip subpixel estimation!\n",
      "Skip subpixel estimation!\n",
      "Skip subpixel estimation!\n",
      "Skip subpixel estimation!\n",
      "Skip subpixel estimation!\n",
      "Skip subpixel estimation!\n",
      "Skip subpixel estimation!\n",
      "Skip subpixel estimation!\n",
      "Skip subpixel estimation!\n",
      "Skip subpixel estimation!\n",
      "Skip subpixel estimation!\n",
      "Skip subpixel estimation!\n",
      "Skip subpixel estimation!\n",
      "Skip subpixel estimation!\n",
      "Skip subpixel estimation!\n",
      "Skip subpixel estimation!\n",
      "Skip subpixel estimation!\n",
      "Skip subpixel estimation!\n",
      "Skip subpixel estimation!\n",
      "Skip subpixel estimation!\n",
      "Skip subpixel estimation!\n",
      "Skip subpixel estimation!\n",
      "Skip subpixel estimation!\n",
      "Skip subpixel estimation!\n",
      "Skip subpixel estimation!\n",
      "Skip subpixel estimation!\n",
      "Skip subpixel estimation!\n",
      "Skip subpixel estimation!\n",
      "Skip subpixel estimation!\n",
      "Skip subpixel estimation!\n",
      "Skip subpixel estimation!\n",
      "Skip subpixel estimation!\n",
      "Skip subpixel estimation!\n",
      "Skip subpixel estimation!\n",
      "Skip subpixel estimation!\n",
      "Skip subpixel estimation!\n",
      "Skip subpixel estimation!\n",
      "Skip subpixel estimation!\n",
      "Skip subpixel estimation!\n",
      "Skip subpixel estimation!\n",
      "Skip subpixel estimation!\n",
      "Skip subpixel estimation!\n",
      "Skip subpixel estimation!\n",
      "Skip subpixel estimation!\n",
      "Skip subpixel estimation!\n",
      "Skip subpixel estimation!\n",
      "Skip subpixel estimation!\n",
      "Skip subpixel estimation!\n",
      "Skip subpixel estimation!\n",
      "Skip subpixel estimation!\n",
      "Skip subpixel estimation!\n",
      "Skip subpixel estimation!\n",
      "Skip subpixel estimation!\n",
      "Skip subpixel estimation!\n",
      "Skip subpixel estimation!\n",
      "Skip subpixel estimation!\n",
      "Skip subpixel estimation!\n",
      "Skip subpixel estimation!\n",
      "Skip subpixel estimation!\n",
      "Skip subpixel estimation!\n",
      "Skip subpixel estimation!\n",
      "Skip subpixel estimation!\n",
      "Skip subpixel estimation!\n",
      "Skip subpixel estimation!\n",
      "Skip subpixel estimation!\n",
      "Skip subpixel estimation!\n",
      "Skip subpixel estimation!\n",
      "Skip subpixel estimation!\n",
      "Skip subpixel estimation!\n",
      "Skip subpixel estimation!\n",
      "Skip subpixel estimation!\n",
      "Skip subpixel estimation!\n",
      "Skip subpixel estimation!\n",
      "Skip subpixel estimation!\n",
      "Skip subpixel estimation!\n",
      "Skip subpixel estimation!\n",
      "Skip subpixel estimation!\n",
      "Skip subpixel estimation!\n",
      "Skip subpixel estimation!\n",
      "Skip subpixel estimation!\n",
      "Skip subpixel estimation!\n",
      "Skip subpixel estimation!\n",
      "Skip subpixel estimation!\n",
      "Skip subpixel estimation!\n",
      "Skip subpixel estimation!\n",
      "Skip subpixel estimation!\n",
      "Skip subpixel estimation!\n",
      "Skip subpixel estimation!\n",
      "Skip subpixel estimation!\n",
      "Skip subpixel estimation!\n",
      "Skip subpixel estimation!\n",
      "Skip subpixel estimation!\n",
      "Skip subpixel estimation!\n",
      "Skip subpixel estimation!\n",
      "Skip subpixel estimation!\n",
      "Skip subpixel estimation!\n",
      "Skip subpixel estimation!\n",
      "Skip subpixel estimation!\n",
      "Skip subpixel estimation!\n",
      "Skip subpixel estimation!\n",
      "Skip subpixel estimation!\n",
      "Skip subpixel estimation!\n",
      "Skip subpixel estimation!\n",
      "Skip subpixel estimation!\n",
      "Skip subpixel estimation!\n",
      "Skip subpixel estimation!\n",
      "Skip subpixel estimation!\n",
      "Skip subpixel estimation!\n",
      "Skip subpixel estimation!\n",
      "Skip subpixel estimation!\n",
      "Skip subpixel estimation!\n",
      "Skip subpixel estimation!\n",
      "Skip subpixel estimation!\n",
      "Skip subpixel estimation!\n",
      "Skip subpixel estimation!\n",
      "Skip subpixel estimation!\n",
      "Skip subpixel estimation!\n",
      "Skip subpixel estimation!\n",
      "Skip subpixel estimation!\n",
      "Skip subpixel estimation!\n",
      "Skip subpixel estimation!\n",
      "Skip subpixel estimation!\n",
      "Skip subpixel estimation!\n",
      "Skip subpixel estimation!\n",
      "Skip subpixel estimation!\n",
      "Skip subpixel estimation!\n",
      "Skip subpixel estimation!\n",
      "Skip subpixel estimation!\n",
      "Skip subpixel estimation!\n",
      "Skip subpixel estimation!\n",
      "Skip subpixel estimation!\n",
      "Skip subpixel estimation!\n",
      "Skip subpixel estimation!\n",
      "Skip subpixel estimation!\n",
      "Skip subpixel estimation!\n",
      "Skip subpixel estimation!\n",
      "Skip subpixel estimation!\n",
      "Skip subpixel estimation!\n",
      "Skip subpixel estimation!\n",
      "Skip subpixel estimation!\n",
      "Skip subpixel estimation!\n",
      "Skip subpixel estimation!\n",
      "Skip subpixel estimation!\n",
      "Skip subpixel estimation!\n",
      "Skip subpixel estimation!\n",
      "Skip subpixel estimation!\n",
      "Skip subpixel estimation!\n",
      "Skip subpixel estimation!\n",
      "Skip subpixel estimation!\n",
      "Skip subpixel estimation!\n",
      "Skip subpixel estimation!\n",
      "Skip subpixel estimation!\n",
      "Skip subpixel estimation!\n",
      "Skip subpixel estimation!\n",
      "Skip subpixel estimation!\n",
      "Skip subpixel estimation!\n",
      "Skip subpixel estimation!\n",
      "Skip subpixel estimation!\n",
      "Skip subpixel estimation!\n",
      "Skip subpixel estimation!\n",
      "Skip subpixel estimation!\n",
      "Skip subpixel estimation!\n",
      "Skip subpixel estimation!\n",
      "Skip subpixel estimation!\n",
      "Skip subpixel estimation!\n",
      "Skip subpixel estimation!\n",
      "Skip subpixel estimation!\n",
      "Skip subpixel estimation!\n",
      "Skip subpixel estimation!\n",
      "Skip subpixel estimation!\n",
      "Skip subpixel estimation!\n",
      "Skip subpixel estimation!\n",
      "Skip subpixel estimation!\n",
      "Skip subpixel estimation!\n",
      "Skip subpixel estimation!\n",
      "Skip subpixel estimation!\n",
      "Skip subpixel estimation!\n",
      "Skip subpixel estimation!\n",
      "Skip subpixel estimation!\n",
      "Skip subpixel estimation!\n",
      "Skip subpixel estimation!\n",
      "Skip subpixel estimation!\n",
      "Skip subpixel estimation!\n",
      "Skip subpixel estimation!\n",
      "Skip subpixel estimation!\n",
      "Skip subpixel estimation!\n",
      "Skip subpixel estimation!\n",
      "Skip subpixel estimation!\n",
      "Skip subpixel estimation!\n",
      "Skip subpixel estimation!\n",
      "Skip subpixel estimation!\n",
      "Skip subpixel estimation!\n",
      "Skip subpixel estimation!\n",
      "Skip subpixel estimation!\n",
      "Skip subpixel estimation!\n",
      "Skip subpixel estimation!\n",
      "Skip subpixel estimation!\n",
      "Skip subpixel estimation!\n",
      "Skip subpixel estimation!\n",
      "Skip subpixel estimation!\n",
      "Skip subpixel estimation!\n",
      "Skip subpixel estimation!\n",
      "Skip subpixel estimation!\n",
      "Skip subpixel estimation!\n",
      "Skip subpixel estimation!\n",
      "Skip subpixel estimation!\n",
      "Skip subpixel estimation!\n",
      "Skip subpixel estimation!\n",
      "Skip subpixel estimation!\n",
      "Skip subpixel estimation!\n",
      "Skip subpixel estimation!\n",
      "Skip subpixel estimation!\n",
      "Skip subpixel estimation!\n",
      "Skip subpixel estimation!\n",
      "Skip subpixel estimation!\n",
      "Skip subpixel estimation!\n",
      "Skip subpixel estimation!\n",
      "Skip subpixel estimation!\n",
      "Skip subpixel estimation!\n",
      "Skip subpixel estimation!\n",
      "Skip subpixel estimation!\n",
      "Skip subpixel estimation!\n",
      "Skip subpixel estimation!\n",
      "Skip subpixel estimation!\n",
      "Skip subpixel estimation!\n",
      "Skip subpixel estimation!\n",
      "Skip subpixel estimation!\n",
      "Skip subpixel estimation!\n",
      "Skip subpixel estimation!\n",
      "Skip subpixel estimation!\n",
      "Skip subpixel estimation!\n",
      "Skip subpixel estimation!\n",
      "Skip subpixel estimation!\n",
      "Skip subpixel estimation!\n",
      "Skip subpixel estimation!\n",
      "Skip subpixel estimation!\n",
      "Skip subpixel estimation!\n",
      "Skip subpixel estimation!\n",
      "Skip subpixel estimation!\n",
      "Skip subpixel estimation!\n",
      "Skip subpixel estimation!\n",
      "Skip subpixel estimation!\n",
      "Skip subpixel estimation!\n",
      "Skip subpixel estimation!\n",
      "Skip subpixel estimation!\n",
      "Skip subpixel estimation!\n",
      "Skip subpixel estimation!\n",
      "Skip subpixel estimation!\n",
      "Skip subpixel estimation!\n",
      "Skip subpixel estimation!\n",
      "Skip subpixel estimation!\n",
      "Skip subpixel estimation!\n",
      "Skip subpixel estimation!\n",
      "Skip subpixel estimation!\n",
      "Skip subpixel estimation!\n",
      "Skip subpixel estimation!\n",
      "Skip subpixel estimation!\n",
      "Skip subpixel estimation!\n",
      "Skip subpixel estimation!\n",
      "Skip subpixel estimation!\n",
      "Skip subpixel estimation!\n",
      "Skip subpixel estimation!\n",
      "Skip subpixel estimation!\n",
      "Skip subpixel estimation!\n",
      "Skip subpixel estimation!\n",
      "Skip subpixel estimation!\n",
      "Skip subpixel estimation!\n",
      "Skip subpixel estimation!\n",
      "Skip subpixel estimation!\n",
      "Skip subpixel estimation!\n",
      "Skip subpixel estimation!\n",
      "Skip subpixel estimation!\n",
      "Skip subpixel estimation!\n",
      "Skip subpixel estimation!\n",
      "Skip subpixel estimation!\n",
      "Skip subpixel estimation!\n",
      "Skip subpixel estimation!\n",
      "Skip subpixel estimation!\n",
      "Skip subpixel estimation!\n",
      "Skip subpixel estimation!\n",
      "Skip subpixel estimation!\n",
      "Skip subpixel estimation!\n",
      "Skip subpixel estimation!\n",
      "Skip subpixel estimation!\n",
      "Skip subpixel estimation!\n",
      "Skip subpixel estimation!\n",
      "Skip subpixel estimation!\n",
      "Skip subpixel estimation!\n",
      "Skip subpixel estimation!\n",
      "Skip subpixel estimation!\n",
      "Skip subpixel estimation!\n",
      "Skip subpixel estimation!\n",
      "Skip subpixel estimation!\n",
      "Skip subpixel estimation!\n",
      "Skip subpixel estimation!\n",
      "Skip subpixel estimation!\n",
      "Skip subpixel estimation!\n",
      "Skip subpixel estimation!\n",
      "Skip subpixel estimation!\n",
      "Skip subpixel estimation!\n",
      "Skip subpixel estimation!\n",
      "Skip subpixel estimation!\n",
      "Skip subpixel estimation!\n",
      "Skip subpixel estimation!\n",
      "Skip subpixel estimation!\n",
      "[349,350]\r"
     ]
    }
   ],
   "source": [
    "videoobj.extract_relationship()"
   ]
  },
  {
   "cell_type": "code",
   "execution_count": 8,
   "metadata": {
    "collapsed": true
   },
   "outputs": [],
   "source": [
    "import pickle\n",
    "with open('read_video_1228.pkl', 'wb') as output:\n",
    "    pickle.dump(videoobj, output, pickle.HIGHEST_PROTOCOL)"
   ]
  },
  {
   "cell_type": "code",
   "execution_count": 12,
   "metadata": {
    "collapsed": true
   },
   "outputs": [],
   "source": [
    "vA = videoobj.PeakMat.sum(axis=0).T+videoobj.PeakMat.sum(axis=1)"
   ]
  },
  {
   "cell_type": "code",
   "execution_count": 92,
   "metadata": {},
   "outputs": [
    {
     "data": {
      "text/plain": [
       "[array([[False,  True,  True, ...,  True,  True,  True],\n",
       "        [False, False,  True, ...,  True,  True,  True],\n",
       "        [False, False, False, ...,  True,  True,  True],\n",
       "        ..., \n",
       "        [False, False, False, ..., False,  True,  True],\n",
       "        [False, False, False, ..., False, False,  True],\n",
       "        [False, False, False, ..., False, False, False]], dtype=bool)]"
      ]
     },
     "execution_count": 92,
     "metadata": {},
     "output_type": "execute_result"
    }
   ],
   "source": [
    "[videoobj.PeakMat > 0.1]"
   ]
  },
  {
   "cell_type": "code",
   "execution_count": 9,
   "metadata": {
    "collapsed": true
   },
   "outputs": [],
   "source": [
    "saveMat = np.concatenate([videoobj.xMat,videoobj.yMat,videoobj.thMat,videoobj.sMat,videoobj.PeakMat], axis=0)\n",
    "with open('1228'+'.csv', 'wb') as output:\n",
    "    np.savetxt(output,saveMat)"
   ]
  },
  {
   "cell_type": "markdown",
   "metadata": {},
   "source": [
    "vA.shape"
   ]
  },
  {
   "cell_type": "code",
   "execution_count": 14,
   "metadata": {},
   "outputs": [
    {
     "name": "stderr",
     "output_type": "stream",
     "text": [
      "C:\\Users\\yoshi\\Anaconda3\\envs\\tf35\\lib\\site-packages\\ipykernel_launcher.py:115: RuntimeWarning: divide by zero encountered in log\n",
      "..\\imregpoc.py:270: FutureWarning: comparison to `None` will result in an elementwise object comparison in the future.\n",
      "  if perspective == None:\n"
     ]
    }
   ],
   "source": [
    "vobj =VideoStiching('../../../videoreader/1228/1228.avi')\n",
    "vobj.load_data()\n",
    "vobj.Optimization(0.075)\n",
    "vobj.show_stitched()"
   ]
  },
  {
   "cell_type": "code",
   "execution_count": 13,
   "metadata": {},
   "outputs": [
    {
     "name": "stderr",
     "output_type": "stream",
     "text": [
      "..\\imregpoc.py:270: FutureWarning: comparison to `None` will result in an elementwise object comparison in the future.\n",
      "  if perspective == None:\n"
     ]
    }
   ],
   "source": [
    "vobj =VideoStiching('../../../videoreader/1228/1228.avi')\n",
    "#vobj.load_data('1228_matlab.csv')\n",
    "vobj.load_results('1228_matlab_optimized.csv')\n",
    "vobj.show_stitched()"
   ]
  },
  {
   "cell_type": "code",
   "execution_count": 7,
   "metadata": {},
   "outputs": [
    {
     "data": {
      "text/plain": [
       "True"
      ]
     },
     "execution_count": 7,
     "metadata": {},
     "output_type": "execute_result"
    }
   ],
   "source": [
    "cv2.imwrite('panorama.png',vobj.panorama)"
   ]
  },
  {
   "cell_type": "code",
   "execution_count": 3,
   "metadata": {},
   "outputs": [
    {
     "name": "stdout",
     "output_type": "stream",
     "text": [
      "[349,350]\r"
     ]
    }
   ],
   "source": [
    "vobj =VideoStiching('../../../videoreader/1228/1228.avi')\n",
    "vobj.extract_relationship_FP()"
   ]
  },
  {
   "cell_type": "code",
   "execution_count": 11,
   "metadata": {},
   "outputs": [
    {
     "ename": "AttributeError",
     "evalue": "'VideoStiching' object has no attribute 'inliersNum'",
     "output_type": "error",
     "traceback": [
      "\u001b[1;31m---------------------------------------------------------------------------\u001b[0m",
      "\u001b[1;31mAttributeError\u001b[0m                            Traceback (most recent call last)",
      "\u001b[1;32m<ipython-input-11-a5eb4cdd6146>\u001b[0m in \u001b[0;36m<module>\u001b[1;34m()\u001b[0m\n\u001b[1;32m----> 1\u001b[1;33m \u001b[0mvobj\u001b[0m\u001b[1;33m.\u001b[0m\u001b[0mPeakMat\u001b[0m \u001b[1;33m=\u001b[0m \u001b[0mnp\u001b[0m\u001b[1;33m.\u001b[0m\u001b[0mcopy\u001b[0m\u001b[1;33m(\u001b[0m\u001b[0mvobj\u001b[0m\u001b[1;33m.\u001b[0m\u001b[0minliersNum\u001b[0m\u001b[1;33m)\u001b[0m\u001b[1;33m\u001b[0m\u001b[0m\n\u001b[0m\u001b[0;32m      2\u001b[0m \u001b[0mvobj\u001b[0m\u001b[1;33m.\u001b[0m\u001b[0mPeakMat\u001b[0m\u001b[1;33m[\u001b[0m\u001b[0mvobj\u001b[0m\u001b[1;33m.\u001b[0m\u001b[0mPeakMat\u001b[0m\u001b[1;33m<\u001b[0m\u001b[1;36m30\u001b[0m\u001b[1;33m]\u001b[0m \u001b[1;33m=\u001b[0m \u001b[1;36m0\u001b[0m\u001b[1;33m\u001b[0m\u001b[0m\n\u001b[0;32m      3\u001b[0m \u001b[0mvobj\u001b[0m\u001b[1;33m.\u001b[0m\u001b[0mPeakMat\u001b[0m\u001b[1;33m[\u001b[0m\u001b[0mvobj\u001b[0m\u001b[1;33m.\u001b[0m\u001b[0mPeakMat\u001b[0m\u001b[1;33m>=\u001b[0m\u001b[1;36m30\u001b[0m\u001b[1;33m]\u001b[0m \u001b[1;33m=\u001b[0m \u001b[1;36m1\u001b[0m\u001b[1;33m\u001b[0m\u001b[0m\n\u001b[0;32m      4\u001b[0m \u001b[1;33m\u001b[0m\u001b[0m\n",
      "\u001b[1;31mAttributeError\u001b[0m: 'VideoStiching' object has no attribute 'inliersNum'"
     ]
    }
   ],
   "source": [
    "vobj.load_FP('1228_FP.csv')\n",
    "vobj.\n",
    "\n"
   ]
  },
  {
   "cell_type": "code",
   "execution_count": 26,
   "metadata": {},
   "outputs": [
    {
     "name": "stderr",
     "output_type": "stream",
     "text": [
      "C:\\Users\\yoshi\\Anaconda3\\envs\\tf35\\lib\\site-packages\\ipykernel_launcher.py:8: RuntimeWarning: invalid value encountered in true_divide\n",
      "  \n"
     ]
    },
    {
     "data": {
      "text/plain": [
       "<matplotlib.image.AxesImage at 0x2a2339cb2b0>"
      ]
     },
     "execution_count": 26,
     "metadata": {},
     "output_type": "execute_result"
    },
    {
     "data": {
      "image/png": "[encoded data removed]",
      "text/plain": [
       "<matplotlib.figure.Figure at 0x2a2311c2b38>"
      ]
     },
     "metadata": {},
     "output_type": "display_data"
    }
   ],
   "source": [
    "from matplotlib import pyplot as plt\n",
    "%matplotlib inline\n",
    "plt.subplot(2,2,1)\n",
    "plt.imshow(vobj.inliersNum,vmin=0,vmax=vobj.inliersNum.max())\n",
    "plt.subplot(2,2,2)\n",
    "plt.imshow(vobj.matchedNum,vmin=0,vmax=vobj.matchedNum.max())\n",
    "plt.subplot(2,2,3)\n",
    "plt.imshow(vobj.inliersNum/vobj.matchedNum,vmin=0,vmax=1)\n",
    "plt.subplot(2,2,4)\n",
    "plt.imshow(vobj.PeakMat,vmin=0,vmax=1)"
   ]
  },
  {
   "cell_type": "code",
   "execution_count": 28,
   "metadata": {},
   "outputs": [
    {
     "name": "stderr",
     "output_type": "stream",
     "text": [
      "C:\\Users\\yoshi\\Anaconda3\\envs\\tf35\\lib\\site-packages\\ipykernel_launcher.py:115: RuntimeWarning: divide by zero encountered in log\n",
      "..\\imregpoc.py:270: FutureWarning: comparison to `None` will result in an elementwise object comparison in the future.\n",
      "  if perspective == None:\n"
     ]
    }
   ],
   "source": [
    "vobj.Optimization()\n",
    "vobj.show_stitched()"
   ]
  },
  {
   "cell_type": "markdown",
   "metadata": {},
   "source": [
    "# testfor"
   ]
  },
  {
   "cell_type": "code",
   "execution_count": 9,
   "metadata": {},
   "outputs": [
    {
     "name": "stderr",
     "output_type": "stream",
     "text": [
      "C:\\Users\\yoshi\\Anaconda3\\envs\\tf35\\lib\\site-packages\\ipykernel_launcher.py:115: RuntimeWarning: divide by zero encountered in log\n",
      "..\\imregpoc.py:270: FutureWarning: comparison to `None` will result in an elementwise object comparison in the future.\n",
      "  if perspective == None:\n"
     ]
    }
   ],
   "source": [
    "vobj2 =VideoStiching('../../../videoreader/SolveMap626/626EXP.avi')\n",
    "#vobj2.extract_relationship()\n",
    "vobj2.load_data()\n",
    "vobj2.Optimization(0.075)\n",
    "vobj2.show_stitched()"
   ]
  },
  {
   "cell_type": "code",
   "execution_count": 4,
   "metadata": {},
   "outputs": [],
   "source": [
    "vobj2.save_data()"
   ]
  },
  {
   "cell_type": "code",
   "execution_count": 33,
   "metadata": {},
   "outputs": [
    {
     "name": "stdout",
     "output_type": "stream",
     "text": [
      "[267,268]\r"
     ]
    }
   ],
   "source": [
    "vobj2.extract_relationship_FP()"
   ]
  },
  {
   "cell_type": "code",
   "execution_count": 34,
   "metadata": {
    "collapsed": true
   },
   "outputs": [],
   "source": [
    "vobj2.PeakMat = np.copy(vobj2.inliersNum)\n",
    "vobj2.PeakMat[vobj2.PeakMat<30] = 0\n",
    "vobj2.PeakMat[vobj2.PeakMat>=30] = 1"
   ]
  },
  {
   "cell_type": "code",
   "execution_count": 36,
   "metadata": {},
   "outputs": [
    {
     "name": "stderr",
     "output_type": "stream",
     "text": [
      "..\\imregpoc.py:270: FutureWarning: comparison to `None` will result in an elementwise object comparison in the future.\n",
      "  if perspective == None:\n"
     ]
    }
   ],
   "source": [
    "vobj2.show_stitched()"
   ]
  }
 ],
 "metadata": {
  "kernelspec": {
   "display_name": "Python 3",
   "language": "python",
   "name": "python3"
  },
  "language_info": {
   "codemirror_mode": {
    "name": "ipython",
    "version": 3
   },
   "file_extension": ".py",
   "mimetype": "text/x-python",
   "name": "python",
   "nbconvert_exporter": "python",
   "pygments_lexer": "ipython3",
   "version": "3.5.3"
  }
 },
 "nbformat": 4,
 "nbformat_minor": 2
}
